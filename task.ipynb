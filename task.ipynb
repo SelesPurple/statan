{
 "cells": [
  {
   "cell_type": "markdown",
   "metadata": {},
   "source": [
    "# Практическая работа №1: \n",
    "## Формирование и первичная обработка выборки. Нахождение и точечных и интервальных оценок. Проверка статистических гипотез\n",
    "    Выполнила студентка группы 0373: Казанова Анастасия. Вариант 9."
   ]
  },
  {
   "cell_type": "markdown",
   "metadata": {},
   "source": [
    "## Цель работы: \n",
    "    Ознакомление с основными правилами формирования выборки и подготовки выборочных данных к статистическому анализу. Получение практических навыков нахождения точечных статистических оценок параметров распределения, а также вычисления интервальных статистических оценок параметров распределения выборочных данных и проверки «справедливости» статистических гипотез."
   ]
  },
  {
   "cell_type": "markdown",
   "metadata": {},
   "source": [
    "## Постановка задачи:\n",
    "    * Осуществить формирование репрезентативной выборки заданного объема из имеющейся генеральной совокупности экспериментальных данных.\n",
    "    * Осуществить последовательное преобразование полученной выборки в ранжированный, вариационный и интервальный ряды. \n",
    "    * Применительно к интервальному ряду построить и отобразить графически полигон, гистограмму и эмпирическую функцию распределения для абсолютных и относительных частот. \n",
    "    * Для заданных выборочных данных вычислить с использованием метода моментов и условных вариант точечные статистические оценки математического ожидания, дисперсии, среднеквадратичного отклонения, асимметрии, эксцесса, моды, медианы и коэффициента вариации исследуемой случайной величины. \n",
    "    * Для заданной надёжности определить границы доверительных интервалов для математического ожидания и среднеквадратичного отклонения случайной величины. \n",
    "    * Проверить гипотезу о нормальном распределении исследуемой случайной величины с помощью критерия Пирсона 𝜒2. Полученные результаты содержательно проинтерпретировать."
   ]
  },
  {
   "cell_type": "markdown",
   "metadata": {},
   "source": [
    "# Основные теоретические положения:"
   ]
  },
  {
   "cell_type": "markdown",
   "metadata": {},
   "source": [
    "*Выборочная совокупность* — совокупность случайно отобранных объектов. Объем = n.    \n",
    "*Ряд распределения* — упорядоченное распределение единиц совокупности на группы по определенному варьирующему признаку.  \n",
    "*Полигон частот* — ломаная линия, соединяющая точки дискретного ряда $((x_{1}, n_{1}), (x_{2}, n_{2}) ... (x_{k}, n_{k}))$.  \n",
    "*Полигон относительных частот* — ломаная линия, соединяющая точки дискретного ряда \n",
    "$((x_{1}, p_{1}^{*}), (x_{2}, p_{2}^{*}) ... (x_{k}, p_{k}^{*}))$.  \n",
    "*Гистограмма* — статистический аналог функции плотности распределения случайной величины.  \n",
    "*Гистограмма частот* — ступенчатая фигура, состоящая из прямоугольников, основаниями которых являются частичные интервалы, а высоты равны $f_{i} = \\frac{n_{i}}{h}$  \n",
    "*Гистограмма относительных частот* — ступенчатая фигура, состоящая из прямоугольников, основаниями которых являются частичные интервалы, а высоты равны $f_{i}^{*} = \\frac{p_{i}^{*}}{h}$  \n",
    "*Формула Стёрджеса для задания интервального ряда:*  \n",
    "$k = 1 + 3.32 \\cdot log(n)$ - количество групп;   \n",
    "$h = \\frac{x_{max} - x_{min}}{k}$ - длина интервала или шаг.  \n",
    "*Выборочное среднее* — среднее арифметическое значений признака выборочной совокупности   \n",
    "$\\overline{x} = \\frac{1}{n}\\sum_{i = 1}^{n}x_{i}$. Для интервального ряда берется середина каждого интервала.  \n",
    "*Выборочная дисперсия* — среднее арифметическое квадратов отклонений значений признака выборочной совокупности от их среднего значения:\n",
    "$\\delta^{2} = \\frac{1}{n}\\sum_{i = 1}^{n}(x_{i}-\\overline{x})^{2}$  \n",
    "*Среднекрадритичное отклонение* - квадратный модуль из дисперсии.   \n",
    "*Мода интервального ряда* — число, заключенное в частичный интервал, которому соответствует наибольшая частота.  \n",
    "Истинное значение моды $M^{*}_o \\in (x^{o}_{M_o},x^{'}_{M_o});$   \n",
    "$M^{*}_o=x^{o}_{M_o}+h\\frac{n_{M_o}-n_{M_o-1}}{(n_{M_o}-n_{M_o-1})+(n_{M_o}-n_{M_o+1})}$  \n",
    "*Медиана* — значение признака, приходящееся на середину ранжированного ряда.  \n",
    "*Медиана интервального  ряда* — число, принадлежащее частичному интервалу, для которого накопленная частота составляет половину всей суммы частот, а накопленная частота предыдущего интервала меньше половины всей суммы частот.  \n",
    "$M^{*}_e\\in (x^{o}_{M_e},x^{'}_{M_e})$;   \n",
    "$M^{*}_e=x^{o}_{M_e} +\\frac{h}{p^{*}_{M_e}}(0.5-p^{\\sum}_{M_e-1})$  \n",
    "*Коэффициент вариации*(относительное стандартное отклонение) — мера колеблемости изучаемого признака относительно выборочной средней:\n",
    "$v^{*} = \\frac{\\sigma_B}{\\left|\\overline{X}_B \\right|} \\cdot 100$%  \n",
    "*Условные варианты* — определенные:  \n",
    "$\\mu_i=\\frac{x_i-c}{h}$, где с - ложный нуль, середина ряда.  \n",
    "*Центральный эмпирический момент порядка r* — среднее значений степеней разности $(x_i-c)$:  \n",
    "$\\mu^{*}_r=\\frac{1}{n} \\sum_{i=1}^{k}n_i(x_i-\\overline{x})^r$  \n",
    "$\\mu_1^*=0$;  \n",
    "$\\mu_2^*=(\\nu_2^*-(\\nu_1^*)^2)h^2$;  \n",
    "$\\mu_3^*=(\\nu_3^*-3\\nu_2^*\\nu_1^*+2(\\nu_1^*)^3)h^3$;  \n",
    "$\\mu_4^*=(\\nu_4^*-4\\nu_3^*\\nu_1^*+6\\nu_2^*(\\nu_1^*)$     \n",
    "*Выборочное среднее через условный эмпирический момент:  \n",
    "$\\overline{x}=h \\cdot \\mu_1^*+c$  \n",
    "*Исправленная дисперсия*: $s^{2} = \\frac{n}{n-1}\\cdot\\sigma^{2}$  \n",
    "*Коэффициент ассиметрии:* $a_s^*=\\frac{\\mu_3^*}{\\sigma^3}$  \n",
    "*Коэффициент эксцесса:* $e_k^*=\\frac{\\mu_4^*}{\\sigma^4}-3$\n",
    "\n",
    "\n",
    "\n",
    "\n"
   ]
  },
  {
   "cell_type": "markdown",
   "metadata": {},
   "source": [
    "# Выполнение работы:"
   ]
  },
  {
   "cell_type": "code",
   "execution_count": 673,
   "metadata": {},
   "outputs": [],
   "source": [
    "import numpy as np\n",
    "import pandas as pd\n",
    "import math\n",
    "import matplotlib.pyplot as plt\n",
    "from matplotlib.pyplot import legend"
   ]
  },
  {
   "cell_type": "markdown",
   "metadata": {},
   "source": [
    "### **Задание №1.** Сформированная выборка объема 115:"
   ]
  },
  {
   "cell_type": "code",
   "execution_count": 674,
   "metadata": {},
   "outputs": [
    {
     "data": {
      "text/html": [
       "<div>\n",
       "<style scoped>\n",
       "    .dataframe tbody tr th:only-of-type {\n",
       "        vertical-align: middle;\n",
       "    }\n",
       "\n",
       "    .dataframe tbody tr th {\n",
       "        vertical-align: top;\n",
       "    }\n",
       "\n",
       "    .dataframe thead th {\n",
       "        text-align: right;\n",
       "    }\n",
       "</style>\n",
       "<table border=\"1\" class=\"dataframe\">\n",
       "  <thead>\n",
       "    <tr style=\"text-align: right;\">\n",
       "      <th></th>\n",
       "      <th>temp</th>\n",
       "    </tr>\n",
       "  </thead>\n",
       "  <tbody>\n",
       "    <tr>\n",
       "      <th>0</th>\n",
       "      <td>14.6</td>\n",
       "    </tr>\n",
       "    <tr>\n",
       "      <th>1</th>\n",
       "      <td>24.1</td>\n",
       "    </tr>\n",
       "    <tr>\n",
       "      <th>2</th>\n",
       "      <td>19.3</td>\n",
       "    </tr>\n",
       "    <tr>\n",
       "      <th>3</th>\n",
       "      <td>22.9</td>\n",
       "    </tr>\n",
       "    <tr>\n",
       "      <th>4</th>\n",
       "      <td>18.3</td>\n",
       "    </tr>\n",
       "    <tr>\n",
       "      <th>...</th>\n",
       "      <td>...</td>\n",
       "    </tr>\n",
       "    <tr>\n",
       "      <th>110</th>\n",
       "      <td>32.6</td>\n",
       "    </tr>\n",
       "    <tr>\n",
       "      <th>111</th>\n",
       "      <td>21.6</td>\n",
       "    </tr>\n",
       "    <tr>\n",
       "      <th>112</th>\n",
       "      <td>26.7</td>\n",
       "    </tr>\n",
       "    <tr>\n",
       "      <th>113</th>\n",
       "      <td>18.2</td>\n",
       "    </tr>\n",
       "    <tr>\n",
       "      <th>114</th>\n",
       "      <td>21.2</td>\n",
       "    </tr>\n",
       "  </tbody>\n",
       "</table>\n",
       "<p>115 rows × 1 columns</p>\n",
       "</div>"
      ],
      "text/plain": [
       "     temp\n",
       "0    14.6\n",
       "1    24.1\n",
       "2    19.3\n",
       "3    22.9\n",
       "4    18.3\n",
       "..    ...\n",
       "110  32.6\n",
       "111  21.6\n",
       "112  26.7\n",
       "113  18.2\n",
       "114  21.2\n",
       "\n",
       "[115 rows x 1 columns]"
      ]
     },
     "execution_count": 674,
     "metadata": {},
     "output_type": "execute_result"
    }
   ],
   "source": [
    "bivariate_sampling = pd.read_csv(\"forestfires.csv\") \n",
    "n = 115\n",
    "selection = bivariate_sampling[[\"temp\"]]\n",
    "selection"
   ]
  },
  {
   "cell_type": "markdown",
   "metadata": {},
   "source": [
    "### **Задание №2.** Последовательно преобразовать выборку в ранжированный, вариационный и интервальный ряды. "
   ]
  },
  {
   "cell_type": "markdown",
   "metadata": {},
   "source": [
    "*Ранжированный ряд:*"
   ]
  },
  {
   "cell_type": "code",
   "execution_count": 675,
   "metadata": {},
   "outputs": [
    {
     "data": {
      "text/html": [
       "<div>\n",
       "<style scoped>\n",
       "    .dataframe tbody tr th:only-of-type {\n",
       "        vertical-align: middle;\n",
       "    }\n",
       "\n",
       "    .dataframe tbody tr th {\n",
       "        vertical-align: top;\n",
       "    }\n",
       "\n",
       "    .dataframe thead th {\n",
       "        text-align: right;\n",
       "    }\n",
       "</style>\n",
       "<table border=\"1\" class=\"dataframe\">\n",
       "  <thead>\n",
       "    <tr style=\"text-align: right;\">\n",
       "      <th></th>\n",
       "      <th>temp</th>\n",
       "    </tr>\n",
       "  </thead>\n",
       "  <tbody>\n",
       "    <tr>\n",
       "      <th>0</th>\n",
       "      <td>4.6</td>\n",
       "    </tr>\n",
       "    <tr>\n",
       "      <th>1</th>\n",
       "      <td>4.6</td>\n",
       "    </tr>\n",
       "    <tr>\n",
       "      <th>2</th>\n",
       "      <td>5.1</td>\n",
       "    </tr>\n",
       "    <tr>\n",
       "      <th>3</th>\n",
       "      <td>5.2</td>\n",
       "    </tr>\n",
       "    <tr>\n",
       "      <th>4</th>\n",
       "      <td>8.2</td>\n",
       "    </tr>\n",
       "    <tr>\n",
       "      <th>...</th>\n",
       "      <td>...</td>\n",
       "    </tr>\n",
       "    <tr>\n",
       "      <th>110</th>\n",
       "      <td>27.6</td>\n",
       "    </tr>\n",
       "    <tr>\n",
       "      <th>111</th>\n",
       "      <td>27.8</td>\n",
       "    </tr>\n",
       "    <tr>\n",
       "      <th>112</th>\n",
       "      <td>31.0</td>\n",
       "    </tr>\n",
       "    <tr>\n",
       "      <th>113</th>\n",
       "      <td>32.4</td>\n",
       "    </tr>\n",
       "    <tr>\n",
       "      <th>114</th>\n",
       "      <td>32.6</td>\n",
       "    </tr>\n",
       "  </tbody>\n",
       "</table>\n",
       "<p>115 rows × 1 columns</p>\n",
       "</div>"
      ],
      "text/plain": [
       "     temp\n",
       "0     4.6\n",
       "1     4.6\n",
       "2     5.1\n",
       "3     5.2\n",
       "4     8.2\n",
       "..    ...\n",
       "110  27.6\n",
       "111  27.8\n",
       "112  31.0\n",
       "113  32.4\n",
       "114  32.6\n",
       "\n",
       "[115 rows x 1 columns]"
      ]
     },
     "execution_count": 675,
     "metadata": {},
     "output_type": "execute_result"
    }
   ],
   "source": [
    "selection_ranked = selection.sort_values(by=\"temp\").reset_index(drop=True)\n",
    "selection_ranked"
   ]
  },
  {
   "cell_type": "markdown",
   "metadata": {},
   "source": [
    "*Вариационный ряд:*"
   ]
  },
  {
   "cell_type": "code",
   "execution_count": 676,
   "metadata": {},
   "outputs": [
    {
     "data": {
      "text/html": [
       "<div>\n",
       "<style scoped>\n",
       "    .dataframe tbody tr th:only-of-type {\n",
       "        vertical-align: middle;\n",
       "    }\n",
       "\n",
       "    .dataframe tbody tr th {\n",
       "        vertical-align: top;\n",
       "    }\n",
       "\n",
       "    .dataframe thead th {\n",
       "        text-align: right;\n",
       "    }\n",
       "</style>\n",
       "<table border=\"1\" class=\"dataframe\">\n",
       "  <thead>\n",
       "    <tr style=\"text-align: right;\">\n",
       "      <th></th>\n",
       "      <th>variation</th>\n",
       "      <th>frequency</th>\n",
       "    </tr>\n",
       "  </thead>\n",
       "  <tbody>\n",
       "    <tr>\n",
       "      <th>0</th>\n",
       "      <td>4.6</td>\n",
       "      <td>2</td>\n",
       "    </tr>\n",
       "    <tr>\n",
       "      <th>1</th>\n",
       "      <td>5.1</td>\n",
       "      <td>1</td>\n",
       "    </tr>\n",
       "    <tr>\n",
       "      <th>2</th>\n",
       "      <td>5.2</td>\n",
       "      <td>1</td>\n",
       "    </tr>\n",
       "    <tr>\n",
       "      <th>3</th>\n",
       "      <td>8.2</td>\n",
       "      <td>1</td>\n",
       "    </tr>\n",
       "    <tr>\n",
       "      <th>4</th>\n",
       "      <td>8.9</td>\n",
       "      <td>1</td>\n",
       "    </tr>\n",
       "    <tr>\n",
       "      <th>...</th>\n",
       "      <td>...</td>\n",
       "      <td>...</td>\n",
       "    </tr>\n",
       "    <tr>\n",
       "      <th>80</th>\n",
       "      <td>27.6</td>\n",
       "      <td>1</td>\n",
       "    </tr>\n",
       "    <tr>\n",
       "      <th>81</th>\n",
       "      <td>27.8</td>\n",
       "      <td>1</td>\n",
       "    </tr>\n",
       "    <tr>\n",
       "      <th>82</th>\n",
       "      <td>31.0</td>\n",
       "      <td>1</td>\n",
       "    </tr>\n",
       "    <tr>\n",
       "      <th>83</th>\n",
       "      <td>32.4</td>\n",
       "      <td>1</td>\n",
       "    </tr>\n",
       "    <tr>\n",
       "      <th>84</th>\n",
       "      <td>32.6</td>\n",
       "      <td>1</td>\n",
       "    </tr>\n",
       "  </tbody>\n",
       "</table>\n",
       "<p>85 rows × 2 columns</p>\n",
       "</div>"
      ],
      "text/plain": [
       "    variation  frequency\n",
       "0         4.6          2\n",
       "1         5.1          1\n",
       "2         5.2          1\n",
       "3         8.2          1\n",
       "4         8.9          1\n",
       "..        ...        ...\n",
       "80       27.6          1\n",
       "81       27.8          1\n",
       "82       31.0          1\n",
       "83       32.4          1\n",
       "84       32.6          1\n",
       "\n",
       "[85 rows x 2 columns]"
      ]
     },
     "execution_count": 676,
     "metadata": {},
     "output_type": "execute_result"
    }
   ],
   "source": [
    "selection_variation = selection_ranked.value_counts(sort=False).reset_index()\n",
    "selection_variation.columns=[\"variation\", \"frequency\"]\n",
    "selection_variation"
   ]
  },
  {
   "cell_type": "markdown",
   "metadata": {},
   "source": [
    "*Интервальный ряд:*"
   ]
  },
  {
   "cell_type": "code",
   "execution_count": 677,
   "metadata": {},
   "outputs": [
    {
     "data": {
      "text/html": [
       "<div>\n",
       "<style scoped>\n",
       "    .dataframe tbody tr th:only-of-type {\n",
       "        vertical-align: middle;\n",
       "    }\n",
       "\n",
       "    .dataframe tbody tr th {\n",
       "        vertical-align: top;\n",
       "    }\n",
       "\n",
       "    .dataframe thead th {\n",
       "        text-align: right;\n",
       "    }\n",
       "</style>\n",
       "<table border=\"1\" class=\"dataframe\">\n",
       "  <thead>\n",
       "    <tr style=\"text-align: right;\">\n",
       "      <th></th>\n",
       "      <th>interval</th>\n",
       "      <th>frequency</th>\n",
       "    </tr>\n",
       "  </thead>\n",
       "  <tbody>\n",
       "    <tr>\n",
       "      <th>0</th>\n",
       "      <td>(4.6, 6.35]</td>\n",
       "      <td>4</td>\n",
       "    </tr>\n",
       "    <tr>\n",
       "      <th>1</th>\n",
       "      <td>(6.35, 8.1]</td>\n",
       "      <td>0</td>\n",
       "    </tr>\n",
       "    <tr>\n",
       "      <th>2</th>\n",
       "      <td>(8.1, 9.85]</td>\n",
       "      <td>3</td>\n",
       "    </tr>\n",
       "    <tr>\n",
       "      <th>3</th>\n",
       "      <td>(9.85, 11.6]</td>\n",
       "      <td>7</td>\n",
       "    </tr>\n",
       "    <tr>\n",
       "      <th>4</th>\n",
       "      <td>(11.6, 13.35]</td>\n",
       "      <td>7</td>\n",
       "    </tr>\n",
       "    <tr>\n",
       "      <th>5</th>\n",
       "      <td>(13.35, 15.1]</td>\n",
       "      <td>8</td>\n",
       "    </tr>\n",
       "    <tr>\n",
       "      <th>6</th>\n",
       "      <td>(15.1, 16.85]</td>\n",
       "      <td>14</td>\n",
       "    </tr>\n",
       "    <tr>\n",
       "      <th>7</th>\n",
       "      <td>(16.85, 18.6]</td>\n",
       "      <td>16</td>\n",
       "    </tr>\n",
       "    <tr>\n",
       "      <th>8</th>\n",
       "      <td>(18.6, 20.35]</td>\n",
       "      <td>13</td>\n",
       "    </tr>\n",
       "    <tr>\n",
       "      <th>9</th>\n",
       "      <td>(20.35, 22.1]</td>\n",
       "      <td>11</td>\n",
       "    </tr>\n",
       "    <tr>\n",
       "      <th>10</th>\n",
       "      <td>(22.1, 23.85]</td>\n",
       "      <td>13</td>\n",
       "    </tr>\n",
       "    <tr>\n",
       "      <th>11</th>\n",
       "      <td>(23.85, 25.6]</td>\n",
       "      <td>7</td>\n",
       "    </tr>\n",
       "    <tr>\n",
       "      <th>12</th>\n",
       "      <td>(25.6, 27.35]</td>\n",
       "      <td>6</td>\n",
       "    </tr>\n",
       "    <tr>\n",
       "      <th>13</th>\n",
       "      <td>(27.35, 29.1]</td>\n",
       "      <td>3</td>\n",
       "    </tr>\n",
       "    <tr>\n",
       "      <th>14</th>\n",
       "      <td>(29.1, 30.85]</td>\n",
       "      <td>0</td>\n",
       "    </tr>\n",
       "    <tr>\n",
       "      <th>15</th>\n",
       "      <td>(30.85, 32.6]</td>\n",
       "      <td>3</td>\n",
       "    </tr>\n",
       "  </tbody>\n",
       "</table>\n",
       "</div>"
      ],
      "text/plain": [
       "         interval  frequency\n",
       "0     (4.6, 6.35]          4\n",
       "1     (6.35, 8.1]          0\n",
       "2     (8.1, 9.85]          3\n",
       "3    (9.85, 11.6]          7\n",
       "4   (11.6, 13.35]          7\n",
       "5   (13.35, 15.1]          8\n",
       "6   (15.1, 16.85]         14\n",
       "7   (16.85, 18.6]         16\n",
       "8   (18.6, 20.35]         13\n",
       "9   (20.35, 22.1]         11\n",
       "10  (22.1, 23.85]         13\n",
       "11  (23.85, 25.6]          7\n",
       "12  (25.6, 27.35]          6\n",
       "13  (27.35, 29.1]          3\n",
       "14  (29.1, 30.85]          0\n",
       "15  (30.85, 32.6]          3"
      ]
     },
     "execution_count": 677,
     "metadata": {},
     "output_type": "execute_result"
    }
   ],
   "source": [
    "k = int(1+3.32*math.log(n))\n",
    "min = selection_variation[\"variation\"][0]\n",
    "max = selection_variation[\"variation\"][len(selection_variation) - 1]\n",
    "h = (max - min)/k\n",
    "selection_interval = selection_ranked.squeeze().value_counts(bins = k).to_frame().reset_index()\n",
    "selection_interval.columns=[\"interval\", \"frequency\"]\n",
    "selection_interval = selection_interval.sort_values(\"interval\").reset_index(drop=True)\n",
    "selection_interval[\"interval\"][0] = pd.Interval(left = selection_ranked[\"temp\"][0], right = selection_interval[\"interval\"][0].right)\n",
    "selection_interval\n"
   ]
  },
  {
   "cell_type": "markdown",
   "metadata": {},
   "source": [
    "### **Задание №3.** Для интервального ряда абсолютных частот построить и отобразить графически полигон, гистограмму и эмпирическую функцию. Сделать выводы.\n"
   ]
  },
  {
   "cell_type": "code",
   "execution_count": 678,
   "metadata": {},
   "outputs": [
    {
     "data": {
      "image/png": "[encoded data removed]",
      "text/plain": [
       "<Figure size 720x432 with 1 Axes>"
      ]
     },
     "metadata": {
      "needs_background": "light"
     },
     "output_type": "display_data"
    }
   ],
   "source": [
    "right_values = []\n",
    "for i in range(len(selection_interval)):\n",
    "    right_values.append(selection_interval[\"interval\"][i].right)\n",
    "fig, ax = plt.subplots(figsize=(10, 6))\n",
    "ax.scatter(right_values, selection_interval[\"frequency\"], color=\"purple\")\n",
    "plt.plot(right_values, selection_interval[\"frequency\"], color=\"purple\")\n",
    "plt.xticks(right_values)\n",
    "plt.title(\"Полигон абсолютных частот\")\n",
    "plt.xlabel(\"VALUES\")\n",
    "plt.ylabel(\"FRAQUENCY\")\n",
    "plt.show()\n"
   ]
  },
  {
   "cell_type": "code",
   "execution_count": 679,
   "metadata": {},
   "outputs": [],
   "source": [
    "# intervals = list(selection_interval[\"interval\"].left) + list([selection_interval[\"interval\"].right[len(selection_interval) - 1]])\n",
    "# plt.xticks(intervals)\n",
    "# for i in range(len(selection_interval)):\n",
    "#     plt.bar(selection_interval[\"interval\"][i].left, selection_interval['frequency'], width=h, align='edge', edgecolor='black', color='green')\n",
    "# plt.show()\n"
   ]
  },
  {
   "cell_type": "code",
   "execution_count": 680,
   "metadata": {},
   "outputs": [
    {
     "data": {
      "image/png": "[encoded data removed]",
      "text/plain": [
       "<Figure size 720x432 with 1 Axes>"
      ]
     },
     "metadata": {
      "needs_background": "light"
     },
     "output_type": "display_data"
    }
   ],
   "source": [
    "accumulated_freq = [0]\n",
    "fig, ax = plt.subplots(figsize=(10, 6))\n",
    "for i in range(len(selection_interval)):\n",
    "    accumulated_freq.append(accumulated_freq[-1] + selection_interval[\"frequency\"][i])\n",
    "    plt.plot([selection_interval[\"interval\"][i].left, selection_interval[\"interval\"][i].right], [accumulated_freq[-1], accumulated_freq[-1]], color=\"purple\")\n",
    "accumulated_freq.pop(0)\n",
    "plt.title(\"Эмпирическая функция абсолютных частот\")\n",
    "plt.xlabel(\"INTERVALS\")\n",
    "plt.ylabel(\"FREQUENCY\")\n",
    "plt.show()\n",
    "\n"
   ]
  },
  {
   "cell_type": "markdown",
   "metadata": {},
   "source": [
    "### **Задание №4.** Для интервального ряда относительных частот построить и отобразить графически полигон, гистограмму и эмпирическую функцию. Сравнить результаты и сделать выводы."
   ]
  },
  {
   "cell_type": "code",
   "execution_count": 681,
   "metadata": {},
   "outputs": [
    {
     "ename": "ValueError",
     "evalue": "x and y must be the same size",
     "output_type": "error",
     "traceback": [
      "\u001b[1;31m---------------------------------------------------------------------------\u001b[0m",
      "\u001b[1;31mValueError\u001b[0m                                Traceback (most recent call last)",
      "\u001b[1;32mc:\\Users\\Пользователь\\Desktop\\unik\\statanal\\statan\\task.ipynb Ячейка 22\u001b[0m in \u001b[0;36m<cell line: 9>\u001b[1;34m()\u001b[0m\n\u001b[0;32m      <a href='vscode-notebook-cell:/c%3A/Users/%D0%9F%D0%BE%D0%BB%D1%8C%D0%B7%D0%BE%D0%B2%D0%B0%D1%82%D0%B5%D0%BB%D1%8C/Desktop/unik/statanal/statan/task.ipynb#X65sZmlsZQ%3D%3D?line=6'>7</a>\u001b[0m     right_values\u001b[39m.\u001b[39mappend(selection_interval[\u001b[39m\"\u001b[39m\u001b[39minterval\u001b[39m\u001b[39m\"\u001b[39m][i]\u001b[39m.\u001b[39mright)\n\u001b[0;32m      <a href='vscode-notebook-cell:/c%3A/Users/%D0%9F%D0%BE%D0%BB%D1%8C%D0%B7%D0%BE%D0%B2%D0%B0%D1%82%D0%B5%D0%BB%D1%8C/Desktop/unik/statanal/statan/task.ipynb#X65sZmlsZQ%3D%3D?line=7'>8</a>\u001b[0m fig, ax \u001b[39m=\u001b[39m plt\u001b[39m.\u001b[39msubplots(figsize\u001b[39m=\u001b[39m(\u001b[39m10\u001b[39m, \u001b[39m6\u001b[39m))\n\u001b[1;32m----> <a href='vscode-notebook-cell:/c%3A/Users/%D0%9F%D0%BE%D0%BB%D1%8C%D0%B7%D0%BE%D0%B2%D0%B0%D1%82%D0%B5%D0%BB%D1%8C/Desktop/unik/statanal/statan/task.ipynb#X65sZmlsZQ%3D%3D?line=8'>9</a>\u001b[0m ax\u001b[39m.\u001b[39;49mscatter(right_values, accumulated_relative_freq, color\u001b[39m=\u001b[39;49m\u001b[39m\"\u001b[39;49m\u001b[39mpurple\u001b[39;49m\u001b[39m\"\u001b[39;49m)\n\u001b[0;32m     <a href='vscode-notebook-cell:/c%3A/Users/%D0%9F%D0%BE%D0%BB%D1%8C%D0%B7%D0%BE%D0%B2%D0%B0%D1%82%D0%B5%D0%BB%D1%8C/Desktop/unik/statanal/statan/task.ipynb#X65sZmlsZQ%3D%3D?line=9'>10</a>\u001b[0m plt\u001b[39m.\u001b[39mplot(right_values, accumulated_relative_freq, color\u001b[39m=\u001b[39m\u001b[39m\"\u001b[39m\u001b[39mpurple\u001b[39m\u001b[39m\"\u001b[39m)\n\u001b[0;32m     <a href='vscode-notebook-cell:/c%3A/Users/%D0%9F%D0%BE%D0%BB%D1%8C%D0%B7%D0%BE%D0%B2%D0%B0%D1%82%D0%B5%D0%BB%D1%8C/Desktop/unik/statanal/statan/task.ipynb#X65sZmlsZQ%3D%3D?line=10'>11</a>\u001b[0m plt\u001b[39m.\u001b[39mxticks(right_values)\n",
      "File \u001b[1;32mc:\\Program Files (x86)\\jupyter\\lib\\site-packages\\matplotlib\\__init__.py:1412\u001b[0m, in \u001b[0;36m_preprocess_data.<locals>.inner\u001b[1;34m(ax, data, *args, **kwargs)\u001b[0m\n\u001b[0;32m   1409\u001b[0m \u001b[39m@functools\u001b[39m\u001b[39m.\u001b[39mwraps(func)\n\u001b[0;32m   1410\u001b[0m \u001b[39mdef\u001b[39;00m \u001b[39minner\u001b[39m(ax, \u001b[39m*\u001b[39margs, data\u001b[39m=\u001b[39m\u001b[39mNone\u001b[39;00m, \u001b[39m*\u001b[39m\u001b[39m*\u001b[39mkwargs):\n\u001b[0;32m   1411\u001b[0m     \u001b[39mif\u001b[39;00m data \u001b[39mis\u001b[39;00m \u001b[39mNone\u001b[39;00m:\n\u001b[1;32m-> 1412\u001b[0m         \u001b[39mreturn\u001b[39;00m func(ax, \u001b[39m*\u001b[39m\u001b[39mmap\u001b[39m(sanitize_sequence, args), \u001b[39m*\u001b[39m\u001b[39m*\u001b[39mkwargs)\n\u001b[0;32m   1414\u001b[0m     bound \u001b[39m=\u001b[39m new_sig\u001b[39m.\u001b[39mbind(ax, \u001b[39m*\u001b[39margs, \u001b[39m*\u001b[39m\u001b[39m*\u001b[39mkwargs)\n\u001b[0;32m   1415\u001b[0m     auto_label \u001b[39m=\u001b[39m (bound\u001b[39m.\u001b[39marguments\u001b[39m.\u001b[39mget(label_namer)\n\u001b[0;32m   1416\u001b[0m                   \u001b[39mor\u001b[39;00m bound\u001b[39m.\u001b[39mkwargs\u001b[39m.\u001b[39mget(label_namer))\n",
      "File \u001b[1;32mc:\\Program Files (x86)\\jupyter\\lib\\site-packages\\matplotlib\\axes\\_axes.py:4369\u001b[0m, in \u001b[0;36mAxes.scatter\u001b[1;34m(self, x, y, s, c, marker, cmap, norm, vmin, vmax, alpha, linewidths, edgecolors, plotnonfinite, **kwargs)\u001b[0m\n\u001b[0;32m   4367\u001b[0m y \u001b[39m=\u001b[39m np\u001b[39m.\u001b[39mma\u001b[39m.\u001b[39mravel(y)\n\u001b[0;32m   4368\u001b[0m \u001b[39mif\u001b[39;00m x\u001b[39m.\u001b[39msize \u001b[39m!=\u001b[39m y\u001b[39m.\u001b[39msize:\n\u001b[1;32m-> 4369\u001b[0m     \u001b[39mraise\u001b[39;00m \u001b[39mValueError\u001b[39;00m(\u001b[39m\"\u001b[39m\u001b[39mx and y must be the same size\u001b[39m\u001b[39m\"\u001b[39m)\n\u001b[0;32m   4371\u001b[0m \u001b[39mif\u001b[39;00m s \u001b[39mis\u001b[39;00m \u001b[39mNone\u001b[39;00m:\n\u001b[0;32m   4372\u001b[0m     s \u001b[39m=\u001b[39m (\u001b[39m20\u001b[39m \u001b[39mif\u001b[39;00m rcParams[\u001b[39m'\u001b[39m\u001b[39m_internal.classic_mode\u001b[39m\u001b[39m'\u001b[39m] \u001b[39melse\u001b[39;00m\n\u001b[0;32m   4373\u001b[0m          rcParams[\u001b[39m'\u001b[39m\u001b[39mlines.markersize\u001b[39m\u001b[39m'\u001b[39m] \u001b[39m*\u001b[39m\u001b[39m*\u001b[39m \u001b[39m2.0\u001b[39m)\n",
      "\u001b[1;31mValueError\u001b[0m: x and y must be the same size"
     ]
    },
    {
     "data": {
      "image/png": "[encoded data removed]",
      "text/plain": [
       "<Figure size 720x432 with 1 Axes>"
      ]
     },
     "metadata": {
      "needs_background": "light"
     },
     "output_type": "display_data"
    }
   ],
   "source": [
    "selection_interval[\"relative_freq\"] = selection_interval[\"frequency\"]/accumulated_freq[-1]\n",
    "accumulated_relative_freq = [0]\n",
    "for i in range(len(selection_interval)):\n",
    "    accumulated_relative_freq.append(accumulated_relative_freq[-1] + selection_interval[\"relative_freq\"][i])\n",
    "right_values = []\n",
    "for i in range(len(selection_interval)):\n",
    "    right_values.append(selection_interval[\"interval\"][i].right)\n",
    "fig, ax = plt.subplots(figsize=(10, 6))\n",
    "ax.scatter(right_values, accumulated_relative_freq, color=\"purple\")\n",
    "plt.plot(right_values, accumulated_relative_freq, color=\"purple\")\n",
    "plt.xticks(right_values)\n",
    "plt.title(\"Полигон относительных частот\")\n",
    "plt.xlabel(\"VALUES\")\n",
    "plt.ylabel(\"FRAQUENCY\")\n",
    "plt.show()\n"
   ]
  },
  {
   "cell_type": "code",
   "execution_count": null,
   "metadata": {},
   "outputs": [
    {
     "data": {
      "image/png": "[encoded data removed]",
      "text/plain": [
       "<Figure size 720x432 with 1 Axes>"
      ]
     },
     "metadata": {
      "needs_background": "light"
     },
     "output_type": "display_data"
    }
   ],
   "source": [
    "selection_interval[\"relative_freq\"] = selection_interval[\"frequency\"]/accumulated_freq[-1]\n",
    "accumulated_relative_freq = [0]\n",
    "fig, ax = plt.subplots(figsize=(10, 6))\n",
    "for i in range(len(selection_interval)):\n",
    "    accumulated_relative_freq.append(accumulated_relative_freq[-1] + selection_interval[\"relative_freq\"][i])\n",
    "    plt.plot([selection_interval[\"interval\"][i].left, selection_interval[\"interval\"][i].right], [accumulated_relative_freq[-1], accumulated_relative_freq[-1]], color=\"purple\")\n",
    "accumulated_relative_freq.pop(0)\n",
    "plt.title(\"Эмпирическая функция относительных частот\")\n",
    "plt.xlabel(\"INTERVALS\")\n",
    "plt.ylabel(\"FREQUENCY\")\n",
    "plt.show()\n"
   ]
  },
  {
   "cell_type": "markdown",
   "metadata": {},
   "source": [
    "### **Задание №5.** Для интервального ряда найти середины интервалов, а также накопленные частоты. Результаты представить в виде таблицы (в последней строке Σ необходимо записать сумму столбца):"
   ]
  },
  {
   "cell_type": "markdown",
   "metadata": {},
   "source": []
  },
  {
   "cell_type": "code",
   "execution_count": null,
   "metadata": {},
   "outputs": [
    {
     "data": {
      "text/html": [
       "<div>\n",
       "<style scoped>\n",
       "    .dataframe tbody tr th:only-of-type {\n",
       "        vertical-align: middle;\n",
       "    }\n",
       "\n",
       "    .dataframe tbody tr th {\n",
       "        vertical-align: top;\n",
       "    }\n",
       "\n",
       "    .dataframe thead th {\n",
       "        text-align: right;\n",
       "    }\n",
       "</style>\n",
       "<table border=\"1\" class=\"dataframe\">\n",
       "  <thead>\n",
       "    <tr style=\"text-align: right;\">\n",
       "      <th></th>\n",
       "      <th>(x(i-1), x(i)]</th>\n",
       "      <th>x(i)</th>\n",
       "      <th>n(i)</th>\n",
       "      <th>p*(i)</th>\n",
       "      <th>sum(n(i))</th>\n",
       "      <th>sum(p(i))</th>\n",
       "    </tr>\n",
       "  </thead>\n",
       "  <tbody>\n",
       "    <tr>\n",
       "      <th>0</th>\n",
       "      <td>(4.6, 6.35]</td>\n",
       "      <td>5.475</td>\n",
       "      <td>4</td>\n",
       "      <td>0.034783</td>\n",
       "      <td>4</td>\n",
       "      <td>0.034783</td>\n",
       "    </tr>\n",
       "    <tr>\n",
       "      <th>1</th>\n",
       "      <td>(6.35, 8.1]</td>\n",
       "      <td>7.225</td>\n",
       "      <td>0</td>\n",
       "      <td>0.000000</td>\n",
       "      <td>4</td>\n",
       "      <td>0.034783</td>\n",
       "    </tr>\n",
       "    <tr>\n",
       "      <th>2</th>\n",
       "      <td>(8.1, 9.85]</td>\n",
       "      <td>8.975</td>\n",
       "      <td>3</td>\n",
       "      <td>0.026087</td>\n",
       "      <td>7</td>\n",
       "      <td>0.06087</td>\n",
       "    </tr>\n",
       "    <tr>\n",
       "      <th>3</th>\n",
       "      <td>(9.85, 11.6]</td>\n",
       "      <td>10.725</td>\n",
       "      <td>7</td>\n",
       "      <td>0.060870</td>\n",
       "      <td>14</td>\n",
       "      <td>0.121739</td>\n",
       "    </tr>\n",
       "    <tr>\n",
       "      <th>4</th>\n",
       "      <td>(11.6, 13.35]</td>\n",
       "      <td>12.475</td>\n",
       "      <td>7</td>\n",
       "      <td>0.060870</td>\n",
       "      <td>21</td>\n",
       "      <td>0.182609</td>\n",
       "    </tr>\n",
       "    <tr>\n",
       "      <th>5</th>\n",
       "      <td>(13.35, 15.1]</td>\n",
       "      <td>14.225</td>\n",
       "      <td>8</td>\n",
       "      <td>0.069565</td>\n",
       "      <td>29</td>\n",
       "      <td>0.252174</td>\n",
       "    </tr>\n",
       "    <tr>\n",
       "      <th>6</th>\n",
       "      <td>(15.1, 16.85]</td>\n",
       "      <td>15.975</td>\n",
       "      <td>14</td>\n",
       "      <td>0.121739</td>\n",
       "      <td>43</td>\n",
       "      <td>0.373913</td>\n",
       "    </tr>\n",
       "    <tr>\n",
       "      <th>7</th>\n",
       "      <td>(16.85, 18.6]</td>\n",
       "      <td>17.725</td>\n",
       "      <td>16</td>\n",
       "      <td>0.139130</td>\n",
       "      <td>59</td>\n",
       "      <td>0.513043</td>\n",
       "    </tr>\n",
       "    <tr>\n",
       "      <th>8</th>\n",
       "      <td>(18.6, 20.35]</td>\n",
       "      <td>19.475</td>\n",
       "      <td>13</td>\n",
       "      <td>0.113043</td>\n",
       "      <td>72</td>\n",
       "      <td>0.626087</td>\n",
       "    </tr>\n",
       "    <tr>\n",
       "      <th>9</th>\n",
       "      <td>(20.35, 22.1]</td>\n",
       "      <td>21.225</td>\n",
       "      <td>11</td>\n",
       "      <td>0.095652</td>\n",
       "      <td>83</td>\n",
       "      <td>0.721739</td>\n",
       "    </tr>\n",
       "    <tr>\n",
       "      <th>10</th>\n",
       "      <td>(22.1, 23.85]</td>\n",
       "      <td>22.975</td>\n",
       "      <td>13</td>\n",
       "      <td>0.113043</td>\n",
       "      <td>96</td>\n",
       "      <td>0.834783</td>\n",
       "    </tr>\n",
       "    <tr>\n",
       "      <th>11</th>\n",
       "      <td>(23.85, 25.6]</td>\n",
       "      <td>24.725</td>\n",
       "      <td>7</td>\n",
       "      <td>0.060870</td>\n",
       "      <td>103</td>\n",
       "      <td>0.895652</td>\n",
       "    </tr>\n",
       "    <tr>\n",
       "      <th>12</th>\n",
       "      <td>(25.6, 27.35]</td>\n",
       "      <td>26.475</td>\n",
       "      <td>6</td>\n",
       "      <td>0.052174</td>\n",
       "      <td>109</td>\n",
       "      <td>0.947826</td>\n",
       "    </tr>\n",
       "    <tr>\n",
       "      <th>13</th>\n",
       "      <td>(27.35, 29.1]</td>\n",
       "      <td>28.225</td>\n",
       "      <td>3</td>\n",
       "      <td>0.026087</td>\n",
       "      <td>112</td>\n",
       "      <td>0.973913</td>\n",
       "    </tr>\n",
       "    <tr>\n",
       "      <th>14</th>\n",
       "      <td>(29.1, 30.85]</td>\n",
       "      <td>29.975</td>\n",
       "      <td>0</td>\n",
       "      <td>0.000000</td>\n",
       "      <td>112</td>\n",
       "      <td>0.973913</td>\n",
       "    </tr>\n",
       "    <tr>\n",
       "      <th>15</th>\n",
       "      <td>(30.85, 32.6]</td>\n",
       "      <td>31.725</td>\n",
       "      <td>3</td>\n",
       "      <td>0.026087</td>\n",
       "      <td>115</td>\n",
       "      <td>1.0</td>\n",
       "    </tr>\n",
       "    <tr>\n",
       "      <th>sum</th>\n",
       "      <td>-</td>\n",
       "      <td>-</td>\n",
       "      <td>115</td>\n",
       "      <td>1.000000</td>\n",
       "      <td>-</td>\n",
       "      <td>-</td>\n",
       "    </tr>\n",
       "  </tbody>\n",
       "</table>\n",
       "</div>"
      ],
      "text/plain": [
       "    (x(i-1), x(i)]    x(i)  n(i)     p*(i) sum(n(i)) sum(p(i))\n",
       "0      (4.6, 6.35]   5.475     4  0.034783         4  0.034783\n",
       "1      (6.35, 8.1]   7.225     0  0.000000         4  0.034783\n",
       "2      (8.1, 9.85]   8.975     3  0.026087         7   0.06087\n",
       "3     (9.85, 11.6]  10.725     7  0.060870        14  0.121739\n",
       "4    (11.6, 13.35]  12.475     7  0.060870        21  0.182609\n",
       "5    (13.35, 15.1]  14.225     8  0.069565        29  0.252174\n",
       "6    (15.1, 16.85]  15.975    14  0.121739        43  0.373913\n",
       "7    (16.85, 18.6]  17.725    16  0.139130        59  0.513043\n",
       "8    (18.6, 20.35]  19.475    13  0.113043        72  0.626087\n",
       "9    (20.35, 22.1]  21.225    11  0.095652        83  0.721739\n",
       "10   (22.1, 23.85]  22.975    13  0.113043        96  0.834783\n",
       "11   (23.85, 25.6]  24.725     7  0.060870       103  0.895652\n",
       "12   (25.6, 27.35]  26.475     6  0.052174       109  0.947826\n",
       "13   (27.35, 29.1]  28.225     3  0.026087       112  0.973913\n",
       "14   (29.1, 30.85]  29.975     0  0.000000       112  0.973913\n",
       "15   (30.85, 32.6]  31.725     3  0.026087       115       1.0\n",
       "sum              -       -   115  1.000000         -         -"
      ]
     },
     "execution_count": 646,
     "metadata": {},
     "output_type": "execute_result"
    }
   ],
   "source": [
    "middles = []\n",
    "for i in range(len(selection_interval)):\n",
    "    middles.append(selection_interval[\"interval\"][i].mid)\n",
    "table = pd.DataFrame(columns=[\"(x(i-1), x(i)]\", \"x(i)\", \"n(i)\", \"p*(i)\", \"sum(n(i))\", \"sum(p(i))\"], index=list(range(1, len(selection_interval) + 1)).append(\"sum\"))\n",
    "table[\"(x(i-1), x(i)]\"] = selection_interval[\"interval\"]\n",
    "table[\"x(i)\"] = middles \n",
    "table[\"n(i)\"] = selection_interval[\"frequency\"]\n",
    "table[\"p*(i)\"] = selection_interval[\"relative_freq\"]\n",
    "table[\"sum(n(i))\"] = accumulated_freq \n",
    "table[\"sum(p(i))\"] = accumulated_relative_freq\n",
    "table.loc[\"sum\"] = [\"-\", \"-\", np.sum(table[\"n(i)\"]), np.sum(table[\"p*(i)\"]), \"-\", \"-\"]\n",
    "table"
   ]
  },
  {
   "cell_type": "markdown",
   "metadata": {},
   "source": [
    "### **Задание №6.** Для полученных вариант вычислить условные варианты. Заполнить расчётную таблицу (в последней строке Σ необходимо записать сумму столбца):\n"
   ]
  },
  {
   "cell_type": "code",
   "execution_count": null,
   "metadata": {},
   "outputs": [
    {
     "data": {
      "text/html": [
       "<div>\n",
       "<style scoped>\n",
       "    .dataframe tbody tr th:only-of-type {\n",
       "        vertical-align: middle;\n",
       "    }\n",
       "\n",
       "    .dataframe tbody tr th {\n",
       "        vertical-align: top;\n",
       "    }\n",
       "\n",
       "    .dataframe thead th {\n",
       "        text-align: right;\n",
       "    }\n",
       "</style>\n",
       "<table border=\"1\" class=\"dataframe\">\n",
       "  <thead>\n",
       "    <tr style=\"text-align: right;\">\n",
       "      <th></th>\n",
       "      <th>x(i)</th>\n",
       "      <th>n(i)</th>\n",
       "      <th>u(i)</th>\n",
       "      <th>n(i)u(i)</th>\n",
       "      <th>n(i)u^2(i)</th>\n",
       "      <th>n(i)u^3(i)</th>\n",
       "      <th>n(i)u^4(i)</th>\n",
       "      <th>n(i)(u(i) + 1)^4</th>\n",
       "    </tr>\n",
       "  </thead>\n",
       "  <tbody>\n",
       "    <tr>\n",
       "      <th>0</th>\n",
       "      <td>5.475</td>\n",
       "      <td>4</td>\n",
       "      <td>-7.0</td>\n",
       "      <td>-28.0</td>\n",
       "      <td>196.0</td>\n",
       "      <td>-1372.0</td>\n",
       "      <td>9604.0</td>\n",
       "      <td>5184.0</td>\n",
       "    </tr>\n",
       "    <tr>\n",
       "      <th>1</th>\n",
       "      <td>7.225</td>\n",
       "      <td>0</td>\n",
       "      <td>-6.0</td>\n",
       "      <td>-0.0</td>\n",
       "      <td>0.0</td>\n",
       "      <td>-0.0</td>\n",
       "      <td>0.0</td>\n",
       "      <td>0.0</td>\n",
       "    </tr>\n",
       "    <tr>\n",
       "      <th>2</th>\n",
       "      <td>8.975</td>\n",
       "      <td>3</td>\n",
       "      <td>-5.0</td>\n",
       "      <td>-15.0</td>\n",
       "      <td>75.0</td>\n",
       "      <td>-375.0</td>\n",
       "      <td>1875.0</td>\n",
       "      <td>768.0</td>\n",
       "    </tr>\n",
       "    <tr>\n",
       "      <th>3</th>\n",
       "      <td>10.725</td>\n",
       "      <td>7</td>\n",
       "      <td>-4.0</td>\n",
       "      <td>-28.0</td>\n",
       "      <td>112.0</td>\n",
       "      <td>-448.0</td>\n",
       "      <td>1792.0</td>\n",
       "      <td>567.0</td>\n",
       "    </tr>\n",
       "    <tr>\n",
       "      <th>4</th>\n",
       "      <td>12.475</td>\n",
       "      <td>7</td>\n",
       "      <td>-3.0</td>\n",
       "      <td>-21.0</td>\n",
       "      <td>63.0</td>\n",
       "      <td>-189.0</td>\n",
       "      <td>567.0</td>\n",
       "      <td>112.0</td>\n",
       "    </tr>\n",
       "    <tr>\n",
       "      <th>5</th>\n",
       "      <td>14.225</td>\n",
       "      <td>8</td>\n",
       "      <td>-2.0</td>\n",
       "      <td>-16.0</td>\n",
       "      <td>32.0</td>\n",
       "      <td>-64.0</td>\n",
       "      <td>128.0</td>\n",
       "      <td>8.0</td>\n",
       "    </tr>\n",
       "    <tr>\n",
       "      <th>6</th>\n",
       "      <td>15.975</td>\n",
       "      <td>14</td>\n",
       "      <td>-1.0</td>\n",
       "      <td>-14.0</td>\n",
       "      <td>14.0</td>\n",
       "      <td>-14.0</td>\n",
       "      <td>14.0</td>\n",
       "      <td>0.0</td>\n",
       "    </tr>\n",
       "    <tr>\n",
       "      <th>7</th>\n",
       "      <td>17.725</td>\n",
       "      <td>16</td>\n",
       "      <td>0.0</td>\n",
       "      <td>0.0</td>\n",
       "      <td>0.0</td>\n",
       "      <td>0.0</td>\n",
       "      <td>0.0</td>\n",
       "      <td>16.0</td>\n",
       "    </tr>\n",
       "    <tr>\n",
       "      <th>8</th>\n",
       "      <td>19.475</td>\n",
       "      <td>13</td>\n",
       "      <td>1.0</td>\n",
       "      <td>13.0</td>\n",
       "      <td>13.0</td>\n",
       "      <td>13.0</td>\n",
       "      <td>13.0</td>\n",
       "      <td>208.0</td>\n",
       "    </tr>\n",
       "    <tr>\n",
       "      <th>9</th>\n",
       "      <td>21.225</td>\n",
       "      <td>11</td>\n",
       "      <td>2.0</td>\n",
       "      <td>22.0</td>\n",
       "      <td>44.0</td>\n",
       "      <td>88.0</td>\n",
       "      <td>176.0</td>\n",
       "      <td>891.0</td>\n",
       "    </tr>\n",
       "    <tr>\n",
       "      <th>10</th>\n",
       "      <td>22.975</td>\n",
       "      <td>13</td>\n",
       "      <td>3.0</td>\n",
       "      <td>39.0</td>\n",
       "      <td>117.0</td>\n",
       "      <td>351.0</td>\n",
       "      <td>1053.0</td>\n",
       "      <td>3328.0</td>\n",
       "    </tr>\n",
       "    <tr>\n",
       "      <th>11</th>\n",
       "      <td>24.725</td>\n",
       "      <td>7</td>\n",
       "      <td>4.0</td>\n",
       "      <td>28.0</td>\n",
       "      <td>112.0</td>\n",
       "      <td>448.0</td>\n",
       "      <td>1792.0</td>\n",
       "      <td>4375.0</td>\n",
       "    </tr>\n",
       "    <tr>\n",
       "      <th>12</th>\n",
       "      <td>26.475</td>\n",
       "      <td>6</td>\n",
       "      <td>5.0</td>\n",
       "      <td>30.0</td>\n",
       "      <td>150.0</td>\n",
       "      <td>750.0</td>\n",
       "      <td>3750.0</td>\n",
       "      <td>7776.0</td>\n",
       "    </tr>\n",
       "    <tr>\n",
       "      <th>13</th>\n",
       "      <td>28.225</td>\n",
       "      <td>3</td>\n",
       "      <td>6.0</td>\n",
       "      <td>18.0</td>\n",
       "      <td>108.0</td>\n",
       "      <td>648.0</td>\n",
       "      <td>3888.0</td>\n",
       "      <td>7203.0</td>\n",
       "    </tr>\n",
       "    <tr>\n",
       "      <th>14</th>\n",
       "      <td>29.975</td>\n",
       "      <td>0</td>\n",
       "      <td>7.0</td>\n",
       "      <td>0.0</td>\n",
       "      <td>0.0</td>\n",
       "      <td>0.0</td>\n",
       "      <td>0.0</td>\n",
       "      <td>0.0</td>\n",
       "    </tr>\n",
       "    <tr>\n",
       "      <th>15</th>\n",
       "      <td>31.725</td>\n",
       "      <td>3</td>\n",
       "      <td>8.0</td>\n",
       "      <td>24.0</td>\n",
       "      <td>192.0</td>\n",
       "      <td>1536.0</td>\n",
       "      <td>12288.0</td>\n",
       "      <td>19683.0</td>\n",
       "    </tr>\n",
       "    <tr>\n",
       "      <th>sum</th>\n",
       "      <td>-</td>\n",
       "      <td>115</td>\n",
       "      <td>-</td>\n",
       "      <td>52.0</td>\n",
       "      <td>1228.0</td>\n",
       "      <td>1372.0</td>\n",
       "      <td>36940.0</td>\n",
       "      <td>50119.0</td>\n",
       "    </tr>\n",
       "  </tbody>\n",
       "</table>\n",
       "</div>"
      ],
      "text/plain": [
       "       x(i)  n(i) u(i)  n(i)u(i)  n(i)u^2(i)  n(i)u^3(i)  n(i)u^4(i)  \\\n",
       "0     5.475     4 -7.0     -28.0       196.0     -1372.0      9604.0   \n",
       "1     7.225     0 -6.0      -0.0         0.0        -0.0         0.0   \n",
       "2     8.975     3 -5.0     -15.0        75.0      -375.0      1875.0   \n",
       "3    10.725     7 -4.0     -28.0       112.0      -448.0      1792.0   \n",
       "4    12.475     7 -3.0     -21.0        63.0      -189.0       567.0   \n",
       "5    14.225     8 -2.0     -16.0        32.0       -64.0       128.0   \n",
       "6    15.975    14 -1.0     -14.0        14.0       -14.0        14.0   \n",
       "7    17.725    16  0.0       0.0         0.0         0.0         0.0   \n",
       "8    19.475    13  1.0      13.0        13.0        13.0        13.0   \n",
       "9    21.225    11  2.0      22.0        44.0        88.0       176.0   \n",
       "10   22.975    13  3.0      39.0       117.0       351.0      1053.0   \n",
       "11   24.725     7  4.0      28.0       112.0       448.0      1792.0   \n",
       "12   26.475     6  5.0      30.0       150.0       750.0      3750.0   \n",
       "13   28.225     3  6.0      18.0       108.0       648.0      3888.0   \n",
       "14   29.975     0  7.0       0.0         0.0         0.0         0.0   \n",
       "15   31.725     3  8.0      24.0       192.0      1536.0     12288.0   \n",
       "sum       -   115    -      52.0      1228.0      1372.0     36940.0   \n",
       "\n",
       "     n(i)(u(i) + 1)^4  \n",
       "0              5184.0  \n",
       "1                 0.0  \n",
       "2               768.0  \n",
       "3               567.0  \n",
       "4               112.0  \n",
       "5                 8.0  \n",
       "6                 0.0  \n",
       "7                16.0  \n",
       "8               208.0  \n",
       "9               891.0  \n",
       "10             3328.0  \n",
       "11             4375.0  \n",
       "12             7776.0  \n",
       "13             7203.0  \n",
       "14                0.0  \n",
       "15            19683.0  \n",
       "sum           50119.0  "
      ]
     },
     "execution_count": 647,
     "metadata": {},
     "output_type": "execute_result"
    }
   ],
   "source": [
    "table_2 = pd.DataFrame(columns=[\"x(i)\", \"n(i)\", \"u(i)\", \"n(i)u(i)\", \"n(i)u^2(i)\", \"n(i)u^3(i)\", \"n(i)u^4(i)\", \"n(i)(u(i) + 1)^4\"].append(\"sum\"))\n",
    "if len(selection_interval) % 2 == 0:\n",
    "    false_zero = ((len(selection_interval) - 1)/2)\n",
    "    if selection_interval[\"frequency\"][math.floor(false_zero)] > selection_interval[\"frequency\"][math.ceil(false_zero)]:\n",
    "        false_zero = table[\"x(i)\"][math.floor(false_zero)]\n",
    "    else:\n",
    "        false_zero = table[\"x(i)\"][math.ceil(false_zero)]\n",
    "else:\n",
    "    false_zero = table[\"x(i)\"][math.floor((len(table) - 1)/2)]\n",
    "u = []\n",
    "for i in range (len(table) - 1):\n",
    "    u.append((table[\"x(i)\"][i] - false_zero)/h)\n",
    "n_u_1 = []\n",
    "n_u_2 = []\n",
    "n_u_3 = []\n",
    "n_u_4 = []\n",
    "n_u_plus = []\n",
    "for i in range(len(u)):\n",
    "    n_u_1.append(table[\"n(i)\"][i]*u[i])\n",
    "    n_u_2.append(table[\"n(i)\"][i]*(u[i])**2)\n",
    "    n_u_3.append(table[\"n(i)\"][i]*(u[i])**3)\n",
    "    n_u_4.append(table[\"n(i)\"][i]*(u[i])**4)\n",
    "    n_u_plus.append(round(table[\"n(i)\"][i]*(u[i] + 1)**4, 1))\n",
    "table_2[\"x(i)\"] = table[\"x(i)\"][:len(table) - 1]\n",
    "table_2[\"n(i)\"] = table[\"n(i)\"]\n",
    "table_2[\"u(i)\"] = u\n",
    "table_2[\"n(i)u(i)\"] = n_u_1\n",
    "table_2[\"n(i)u^2(i)\"] = n_u_2\n",
    "table_2[\"n(i)u^3(i)\"] = n_u_3\n",
    "table_2[\"n(i)u^4(i)\"] = n_u_4\n",
    "table_2[\"n(i)(u(i) + 1)^4\"] = n_u_plus\n",
    "table_2.loc[\"sum\"] = [\"-\", np.sum(table_2[\"n(i)\"]), \"-\", np.sum(n_u_1), np.sum(n_u_2), np.sum(n_u_3), np.sum(n_u_4), np.sum(n_u_plus)]\n",
    "table_2\n",
    "\n",
    "\n"
   ]
  },
  {
   "cell_type": "markdown",
   "metadata": {},
   "source": [
    "### **Задание №7.**  Вычислить условные эмпирические моменты 𝜈𝑖 через условные варианты. С помощью условных эмпирических моментов вычислить центральные эмпирические моменты 𝜇𝑖."
   ]
  },
  {
   "cell_type": "code",
   "execution_count": null,
   "metadata": {},
   "outputs": [
    {
     "data": {
      "text/html": [
       "<div>\n",
       "<style scoped>\n",
       "    .dataframe tbody tr th:only-of-type {\n",
       "        vertical-align: middle;\n",
       "    }\n",
       "\n",
       "    .dataframe tbody tr th {\n",
       "        vertical-align: top;\n",
       "    }\n",
       "\n",
       "    .dataframe thead th {\n",
       "        text-align: right;\n",
       "    }\n",
       "</style>\n",
       "<table border=\"1\" class=\"dataframe\">\n",
       "  <thead>\n",
       "    <tr style=\"text-align: right;\">\n",
       "      <th></th>\n",
       "      <th>v*(i)</th>\n",
       "      <th>m*(i)</th>\n",
       "    </tr>\n",
       "  </thead>\n",
       "  <tbody>\n",
       "    <tr>\n",
       "      <th>1</th>\n",
       "      <td>0.452174</td>\n",
       "      <td>0.000000</td>\n",
       "    </tr>\n",
       "    <tr>\n",
       "      <th>2</th>\n",
       "      <td>10.678261</td>\n",
       "      <td>32.076011</td>\n",
       "    </tr>\n",
       "    <tr>\n",
       "      <th>3</th>\n",
       "      <td>11.930435</td>\n",
       "      <td>-12.701473</td>\n",
       "    </tr>\n",
       "    <tr>\n",
       "      <th>4</th>\n",
       "      <td>321.217391</td>\n",
       "      <td>2931.969856</td>\n",
       "    </tr>\n",
       "  </tbody>\n",
       "</table>\n",
       "</div>"
      ],
      "text/plain": [
       "        v*(i)        m*(i)\n",
       "1    0.452174     0.000000\n",
       "2   10.678261    32.076011\n",
       "3   11.930435   -12.701473\n",
       "4  321.217391  2931.969856"
      ]
     },
     "execution_count": 648,
     "metadata": {},
     "output_type": "execute_result"
    }
   ],
   "source": [
    "v = []\n",
    "r = 4\n",
    "for i in range(r):\n",
    "    v.append(1/n*table_2.loc[\"sum\"][i+3])\n",
    "m = np.zeros(4)\n",
    "m[1] = (v[1]-v[0]**2)*h**2\n",
    "m[2] = (v[2] - 3*v[1]*v[0] + 2*v[0]**3)*h**3\n",
    "m[3] = (v[3] - 4*v[2]*v[0] + 6*v[1]*v[0]**2 - 3*v[0]**4)*h**4\n",
    "table_3 = pd.DataFrame(columns=[\"v*(i)\", \"m*(i)\"], index=range(1, r + 1))\n",
    "table_3[\"v*(i)\"] = v\n",
    "table_3[\"m*(i)\"] = m\n",
    "table_3\n"
   ]
  },
  {
   "cell_type": "markdown",
   "metadata": {},
   "source": [
    "### **Задание №8.** Вычислить выборочные среднее и дисперсию с помощью стандартной формулы и с помощью условных вариант. Убедиться, что результаты совпадают"
   ]
  },
  {
   "cell_type": "code",
   "execution_count": null,
   "metadata": {},
   "outputs": [
    {
     "name": "stdout",
     "output_type": "stream",
     "text": [
      "Выборочное среднее через стандартную формулу:  18.49913043478261\n",
      "Выборочное среднее через условные варианты:  18.51630434782609\n",
      "Дисперсия через стандартную формулу:  32.37052098298676\n",
      "Дисперсия через условные варианты:  32.07601134215502\n"
     ]
    }
   ],
   "source": [
    "x_v = np.sum(selection_ranked[\"temp\"])/n\n",
    "D = 0\n",
    "for i in range(n):\n",
    "    D +=(selection_ranked[\"temp\"][i] - x_v)**2/n\n",
    "x_v_2 = v[0]*h + false_zero\n",
    "D_2 = m[1]\n",
    "print(\"Выборочное среднее через стандартную формулу: \", x_v)\n",
    "print(\"Выборочное среднее через условные варианты: \", x_v_2)\n",
    "print(\"Дисперсия через стандартную формулу: \", D)\n",
    "print(\"Дисперсия через условные варианты: \", D_2)"
   ]
  },
  {
   "cell_type": "markdown",
   "metadata": {},
   "source": [
    "### **Задание №9.** Вычислить исправленную выборочную дисперсию и исправленноеСКО. Сравнить данные оценки с смещёнными оценками дисперсиии СКО."
   ]
  },
  {
   "cell_type": "code",
   "execution_count": null,
   "metadata": {},
   "outputs": [
    {
     "name": "stdout",
     "output_type": "stream",
     "text": [
      "Исправленная выборочная дисперсия:  32.654472921434014\n",
      "Смещенное СКО:  5.689509731337733\n",
      "Исправленное СКО:  5.714409236433283\n"
     ]
    }
   ],
   "source": [
    "sigma = math.sqrt(D)\n",
    "D_s = n/(n - 1)*D\n",
    "sigma_s = math.sqrt(D_s)\n",
    "print(\"Исправленная выборочная дисперсия: \", D_s)\n",
    "print(\"Смещенное СКО: \", sigma)\n",
    "print(\"Исправленное СКО: \", sigma_s)"
   ]
  },
  {
   "cell_type": "markdown",
   "metadata": {},
   "source": [
    "### **Задание №10.** Найти статистическую оценку коэффициентов асимметрии и эксцесса. Сделать выводы.\n"
   ]
  },
  {
   "cell_type": "code",
   "execution_count": null,
   "metadata": {},
   "outputs": [
    {
     "name": "stdout",
     "output_type": "stream",
     "text": [
      "Коэффициент ассиметрии : -0.06896512921425564\n",
      "Эксцесс равен : -0.20192002966170364\n"
     ]
    }
   ],
   "source": [
    "a = m[2]/sigma**3\n",
    "excess = m[3]/sigma**4 - 3\n",
    "print(\"Коэффициент ассиметрии :\", a)\n",
    "print(\"Эксцесс равен :\", excess)"
   ]
  },
  {
   "cell_type": "markdown",
   "metadata": {},
   "source": [
    "Коэффициент асимметрии характеризует скошенность распределения относительно самого высокого участка по отношению к математическому ожиданию. Получили отрицательную ассиметрию, значит большая часть кривой расположена слева от математического ожидания.  \n",
    "Эксцесс характеризует подъем кривой теоретического распределения по сравнению с нормальной кривой. \n",
    "Получили отрицательный эксцесс, значит кривая более плосковершинная. "
   ]
  },
  {
   "cell_type": "markdown",
   "metadata": {},
   "source": [
    "### **Задание №11.** Вычислить моду, медиану и коэффициент вариации для заданного распределения. Сделать выводы."
   ]
  },
  {
   "cell_type": "code",
   "execution_count": null,
   "metadata": {},
   "outputs": [
    {
     "name": "stdout",
     "output_type": "stream",
     "text": [
      "Мода интервального ряда:  17.55\n",
      "Медиана:  18.4359375\n",
      "Коэффициент вариации:  30.755552275258026 %\n"
     ]
    }
   ],
   "source": [
    "#считаем для интервального ряда \n",
    "max_freq = np.max(selection_interval[\"frequency\"])\n",
    "moda_x = 0\n",
    "index_x = 0\n",
    "for i in range(len(selection_interval)):\n",
    "    if (selection_interval[\"frequency\"][i] == max_freq):\n",
    "        moda_x = selection_interval[\"interval\"][i].left #нашли левую границу интервала\n",
    "        index_x = i #нашли индекс интервального ряда, чтобы потом обращаться к частотам пред. и след. интервалов \n",
    "moda = moda_x + h*((max_freq - selection_interval[\"frequency\"][index_x - 1])/(max_freq*2 - selection_interval[\"frequency\"][index_x - 1] - selection_interval[\"frequency\"][index_x + 1]))\n",
    "print(\"Мода интервального ряда: \", moda)\n",
    "mediana = 0 \n",
    "index = 0\n",
    "while (table[\"sum(n(i))\"][index] < table[\"sum(n(i))\"][len(selection_interval)-1]/2):\n",
    "    index += 1\n",
    "mediana_x = selection_interval[\"interval\"][index].left\n",
    "mediana = mediana_x + h/(table[\"p*(i)\"][index])*(0.5 - table[\"sum(p(i))\"][index-1])\n",
    "print(\"Медиана: \", mediana)\n",
    "k_var = sigma/abs(x_v)*100\n",
    "print(\"Коэффициент вариации: \", k_var, \"%\")"
   ]
  },
  {
   "cell_type": "markdown",
   "metadata": {},
   "source": [
    "Получили коэффициент вариации менее 33%, значит выборочная совокупность однородная. "
   ]
  },
  {
   "cell_type": "markdown",
   "metadata": {},
   "source": []
  },
  {
   "cell_type": "markdown",
   "metadata": {},
   "source": [
    "### **Задание №12.** Вычислить точность и доверительный интервал для математического ожидания при неизвестном среднеквадратичном отклонении при заданном объёме выборки для доверительной точности 𝛾 ∈ {0.95, 0.99}. Сделать выводы."
   ]
  },
  {
   "cell_type": "code",
   "execution_count": null,
   "metadata": {},
   "outputs": [
    {
     "name": "stdout",
     "output_type": "stream",
     "text": [
      "Доверительный интервал для мат.ожидания с надежностью 0.96: ( 17.444045045115686 , 19.554215824449535 )\n",
      "Доверительный интервал для мат.ожидания с надежностью 0.99: ( 17.103007343405164 , 19.895253526160058 )\n",
      "Точность первого интервала:  1.0550853896669254\n",
      "Точность второго интервала:  1.396123091377447\n"
     ]
    }
   ],
   "source": [
    "gamma_1 = 0.95 \n",
    "gamma_2 = 0.99 \n",
    "t_1 = 1.98\n",
    "t_2 = 2.62\n",
    "accuracy_1 = (t_1 * sigma_s)/math.sqrt(n)\n",
    "accuracy_2 = (t_2 * sigma_s)/math.sqrt(n)\n",
    "print(\"Доверительный интервал для мат.ожидания с надежностью 0.96: (\", x_v - accuracy_1, \",\", x_v + accuracy_1, \")\")\n",
    "print(\"Доверительный интервал для мат.ожидания с надежностью 0.99: (\", x_v - accuracy_2, \",\", x_v + accuracy_2, \")\")\n",
    "print(\"Точность первого интервала: \", accuracy_1)\n",
    "print(\"Точность второго интервала: \", accuracy_2)\n",
    "\n"
   ]
  },
  {
   "cell_type": "markdown",
   "metadata": {},
   "source": [
    "Точность второго доверительного интервала выше, так как выше доверительная надежность. \n",
    "Оба доверительных интервала принимают в себя значение мат. ожидания выборочной совокупности. "
   ]
  },
  {
   "cell_type": "markdown",
   "metadata": {},
   "source": [
    "### **Задание №13.** Для вычисления границ доверительного интервала для среднеквадратичного отклонения определить значение 𝑞 при заданных 𝛾 и 𝑛. Построить доверительные интервалы, сделать выводы."
   ]
  },
  {
   "cell_type": "markdown",
   "metadata": {},
   "source": []
  },
  {
   "cell_type": "code",
   "execution_count": null,
   "metadata": {},
   "outputs": [
    {
     "name": "stdout",
     "output_type": "stream",
     "text": [
      "Доверительный интервал для СКО при надежности 0.95:  -1.714322770929985 < CKO <  13.14314124379655\n",
      "Доверительный интервал для СКО при надежности 0.99:  -4.857247850968291 < CKO <  16.286066323834856\n"
     ]
    }
   ],
   "source": [
    "q_1 = 1.3\n",
    "q_2 = 1.85 \n",
    "print(\"Доверительный интервал для СКО при надежности 0.95: \", sigma_s*(1-q_1), \"< CKO < \", sigma_s*(1+q_1))\n",
    "print(\"Доверительный интервал для СКО при надежности 0.99: \", sigma_s*(1-q_2), \"< CKO < \", sigma_s*(1+q_2))\n"
   ]
  },
  {
   "cell_type": "markdown",
   "metadata": {},
   "source": [
    "Оба доверительных интервала принимают в себя значение СКО выборочной совокупности. "
   ]
  }
 ],
 "metadata": {
  "kernelspec": {
   "display_name": "Python 3.9.12 ('base')",
   "language": "python",
   "name": "python3"
  },
  "language_info": {
   "codemirror_mode": {
    "name": "ipython",
    "version": 3
   },
   "file_extension": ".py",
   "mimetype": "text/x-python",
   "name": "python",
   "nbconvert_exporter": "python",
   "pygments_lexer": "ipython3",
   "version": "3.9.12"
  },
  "orig_nbformat": 4,
  "vscode": {
   "interpreter": {
    "hash": "5f4921821889612bcd231efccfb84b92d00175fd051a5654604e2d0253aa7b76"
   }
  }
 },
 "nbformat": 4,
 "nbformat_minor": 2
}
